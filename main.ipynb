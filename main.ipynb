{
 "cells": [
  {
   "cell_type": "code",
   "execution_count": null,
   "metadata": {
    "colab": {
     "base_uri": "https://localhost:8080/"
    },
    "executionInfo": {
     "elapsed": 25,
     "status": "ok",
     "timestamp": 1759197920739,
     "user": {
      "displayName": "Oscar Carrizo",
      "userId": "12379475802022564975"
     },
     "user_tz": 180
    },
    "id": "4LKdrtstXUcm",
    "outputId": "2be1030f-6330-493f-aa77-ac42cfc22426"
   },
   "outputs": [
    {
     "name": "stdout",
     "output_type": "stream",
     "text": [
      "Hola Mundo\n"
     ]
    }
   ],
   "source": [
    "# main.py\n",
    "if __name__ == '__main__':\n",
    "    print(\"Chau Mundo\")"
   ]
  }
 ],
 "metadata": {
  "colab": {
   "authorship_tag": "ABX9TyMjaqMTYqm3a4cPOltpxbgz",
   "provenance": []
  },
  "kernelspec": {
   "display_name": "Python 3",
   "name": "python3"
  },
  "language_info": {
   "name": "python"
  }
 },
 "nbformat": 4,
 "nbformat_minor": 0
}
